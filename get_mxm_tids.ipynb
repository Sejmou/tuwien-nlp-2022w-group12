{
 "cells": [
  {
   "cell_type": "markdown",
   "metadata": {},
   "source": [
    "# Extracting musiXmatch track IDs for Million Song Dataset from [SQLite DB](http://millionsongdataset.com/sites/default/files/AdditionalFiles/mxm_dataset.db) of the [musiXmatch dataset](http://millionsongdataset.com/musixmatch/)"
   ]
  },
  {
   "cell_type": "markdown",
   "metadata": {},
   "source": [
    "This notebook documents how the musiXmatch track IDs we needed for our custom lyric dataset building on the [musiXmatch dataset](http://millionsongdataset.com/musixmatch/) were obtained from the [SQLite DB](http://millionsongdataset.com/sites/default/files/AdditionalFiles/mxm_dataset.db) of the dataset.\n",
    "\n",
    "If you wish to reproduce the code here, download the file and put it into the `data` directory.\n",
    "\n",
    "As the authors of the dataset mention on the dataset website,this is a subset of the [full mapping of MSD IDs to musiXmatch IDS](http://millionsongdataset.com/sites/default/files/AdditionalFiles/mxm_779k_matches.txt.zip). It contains 237,662 tracks (with lyrics in bag-of-words format) compared to the original 1 million tracks from the MSD dataset. Several tracks had to be removed for *\"several reasons, including\"*:\n",
    "> * diverse restrictions, including copyrights\n",
    "> * instrumental tracks\n",
    "> * the numerous MSD duplicates were skipped as much as possible"
   ]
  },
  {
   "cell_type": "code",
   "execution_count": 1,
   "metadata": {},
   "outputs": [],
   "source": [
    "import numpy as np\n",
    "import pandas as pd\n",
    "import sqlite3\n",
    "import os\n",
    "from io import BytesIO\n",
    "from zipfile import ZipFile\n",
    "import requests"
   ]
  },
  {
   "cell_type": "markdown",
   "metadata": {},
   "source": [
    "## Read lyrics table"
   ]
  },
  {
   "cell_type": "code",
   "execution_count": 2,
   "metadata": {},
   "outputs": [],
   "source": [
    "with sqlite3.connect(\"data/mxm_dataset.db\") as con:\n",
    "  tables = pd.read_sql_query(\"SELECT name FROM sqlite_master WHERE type='table';\", con)\n",
    "  lyrics = pd.read_sql_query(\"SELECT * FROM lyrics;\", con)\n"
   ]
  },
  {
   "cell_type": "code",
   "execution_count": 3,
   "metadata": {},
   "outputs": [
    {
     "data": {
      "text/html": [
       "<div>\n",
       "<style scoped>\n",
       "    .dataframe tbody tr th:only-of-type {\n",
       "        vertical-align: middle;\n",
       "    }\n",
       "\n",
       "    .dataframe tbody tr th {\n",
       "        vertical-align: top;\n",
       "    }\n",
       "\n",
       "    .dataframe thead th {\n",
       "        text-align: right;\n",
       "    }\n",
       "</style>\n",
       "<table border=\"1\" class=\"dataframe\">\n",
       "  <thead>\n",
       "    <tr style=\"text-align: right;\">\n",
       "      <th></th>\n",
       "      <th>name</th>\n",
       "    </tr>\n",
       "  </thead>\n",
       "  <tbody>\n",
       "    <tr>\n",
       "      <th>0</th>\n",
       "      <td>words</td>\n",
       "    </tr>\n",
       "    <tr>\n",
       "      <th>1</th>\n",
       "      <td>lyrics</td>\n",
       "    </tr>\n",
       "  </tbody>\n",
       "</table>\n",
       "</div>"
      ],
      "text/plain": [
       "     name\n",
       "0   words\n",
       "1  lyrics"
      ]
     },
     "execution_count": 3,
     "metadata": {},
     "output_type": "execute_result"
    }
   ],
   "source": [
    "tables"
   ]
  },
  {
   "cell_type": "markdown",
   "metadata": {},
   "source": [
    "In total, there's two tables, but only `lyrics` is of interest to us:"
   ]
  },
  {
   "cell_type": "code",
   "execution_count": 4,
   "metadata": {},
   "outputs": [
    {
     "data": {
      "text/html": [
       "<div>\n",
       "<style scoped>\n",
       "    .dataframe tbody tr th:only-of-type {\n",
       "        vertical-align: middle;\n",
       "    }\n",
       "\n",
       "    .dataframe tbody tr th {\n",
       "        vertical-align: top;\n",
       "    }\n",
       "\n",
       "    .dataframe thead th {\n",
       "        text-align: right;\n",
       "    }\n",
       "</style>\n",
       "<table border=\"1\" class=\"dataframe\">\n",
       "  <thead>\n",
       "    <tr style=\"text-align: right;\">\n",
       "      <th></th>\n",
       "      <th>track_id</th>\n",
       "      <th>mxm_tid</th>\n",
       "      <th>word</th>\n",
       "      <th>count</th>\n",
       "      <th>is_test</th>\n",
       "    </tr>\n",
       "  </thead>\n",
       "  <tbody>\n",
       "    <tr>\n",
       "      <th>0</th>\n",
       "      <td>TRAAAAV128F421A322</td>\n",
       "      <td>4623710</td>\n",
       "      <td>i</td>\n",
       "      <td>6</td>\n",
       "      <td>0</td>\n",
       "    </tr>\n",
       "    <tr>\n",
       "      <th>1</th>\n",
       "      <td>TRAAAAV128F421A322</td>\n",
       "      <td>4623710</td>\n",
       "      <td>the</td>\n",
       "      <td>4</td>\n",
       "      <td>0</td>\n",
       "    </tr>\n",
       "    <tr>\n",
       "      <th>2</th>\n",
       "      <td>TRAAAAV128F421A322</td>\n",
       "      <td>4623710</td>\n",
       "      <td>you</td>\n",
       "      <td>2</td>\n",
       "      <td>0</td>\n",
       "    </tr>\n",
       "    <tr>\n",
       "      <th>3</th>\n",
       "      <td>TRAAAAV128F421A322</td>\n",
       "      <td>4623710</td>\n",
       "      <td>to</td>\n",
       "      <td>2</td>\n",
       "      <td>0</td>\n",
       "    </tr>\n",
       "    <tr>\n",
       "      <th>4</th>\n",
       "      <td>TRAAAAV128F421A322</td>\n",
       "      <td>4623710</td>\n",
       "      <td>and</td>\n",
       "      <td>5</td>\n",
       "      <td>0</td>\n",
       "    </tr>\n",
       "    <tr>\n",
       "      <th>...</th>\n",
       "      <td>...</td>\n",
       "      <td>...</td>\n",
       "      <td>...</td>\n",
       "      <td>...</td>\n",
       "      <td>...</td>\n",
       "    </tr>\n",
       "    <tr>\n",
       "      <th>19045327</th>\n",
       "      <td>TRZZZZD128F4236844</td>\n",
       "      <td>2466899</td>\n",
       "      <td>easili</td>\n",
       "      <td>1</td>\n",
       "      <td>1</td>\n",
       "    </tr>\n",
       "    <tr>\n",
       "      <th>19045328</th>\n",
       "      <td>TRZZZZD128F4236844</td>\n",
       "      <td>2466899</td>\n",
       "      <td>disast</td>\n",
       "      <td>1</td>\n",
       "      <td>1</td>\n",
       "    </tr>\n",
       "    <tr>\n",
       "      <th>19045329</th>\n",
       "      <td>TRZZZZD128F4236844</td>\n",
       "      <td>2466899</td>\n",
       "      <td>frown</td>\n",
       "      <td>1</td>\n",
       "      <td>1</td>\n",
       "    </tr>\n",
       "    <tr>\n",
       "      <th>19045330</th>\n",
       "      <td>TRZZZZD128F4236844</td>\n",
       "      <td>2466899</td>\n",
       "      <td>teas</td>\n",
       "      <td>1</td>\n",
       "      <td>1</td>\n",
       "    </tr>\n",
       "    <tr>\n",
       "      <th>19045331</th>\n",
       "      <td>TRZZZZD128F4236844</td>\n",
       "      <td>2466899</td>\n",
       "      <td>upset</td>\n",
       "      <td>1</td>\n",
       "      <td>1</td>\n",
       "    </tr>\n",
       "  </tbody>\n",
       "</table>\n",
       "<p>19045332 rows × 5 columns</p>\n",
       "</div>"
      ],
      "text/plain": [
       "                    track_id  mxm_tid    word  count  is_test\n",
       "0         TRAAAAV128F421A322  4623710       i      6        0\n",
       "1         TRAAAAV128F421A322  4623710     the      4        0\n",
       "2         TRAAAAV128F421A322  4623710     you      2        0\n",
       "3         TRAAAAV128F421A322  4623710      to      2        0\n",
       "4         TRAAAAV128F421A322  4623710     and      5        0\n",
       "...                      ...      ...     ...    ...      ...\n",
       "19045327  TRZZZZD128F4236844  2466899  easili      1        1\n",
       "19045328  TRZZZZD128F4236844  2466899  disast      1        1\n",
       "19045329  TRZZZZD128F4236844  2466899   frown      1        1\n",
       "19045330  TRZZZZD128F4236844  2466899    teas      1        1\n",
       "19045331  TRZZZZD128F4236844  2466899   upset      1        1\n",
       "\n",
       "[19045332 rows x 5 columns]"
      ]
     },
     "execution_count": 4,
     "metadata": {},
     "output_type": "execute_result"
    }
   ],
   "source": [
    "lyrics"
   ]
  },
  {
   "cell_type": "markdown",
   "metadata": {},
   "source": [
    "It contains bag-of-words-lyrics for all the songs in the dataset. However, we're only interested in the musiXmatch track IDs, as we want to obtain the original lyrics with the musiXmatch API for this project."
   ]
  },
  {
   "cell_type": "code",
   "execution_count": 5,
   "metadata": {},
   "outputs": [
    {
     "data": {
      "text/plain": [
       "237662"
      ]
     },
     "execution_count": 5,
     "metadata": {},
     "output_type": "execute_result"
    }
   ],
   "source": [
    "lyrics.mxm_tid.nunique()"
   ]
  },
  {
   "cell_type": "markdown",
   "metadata": {},
   "source": [
    "We can see that the dataset contains the number of `track_id`s described on the website."
   ]
  },
  {
   "cell_type": "markdown",
   "metadata": {},
   "source": [
    "## Extract relevant data"
   ]
  },
  {
   "cell_type": "markdown",
   "metadata": {},
   "source": [
    "`track_id`,  `mxm_id` and `is_test` are the only relevant columns for our purposes. For convenience, we also rename `track_id` to `msd_tid`."
   ]
  },
  {
   "cell_type": "code",
   "execution_count": 18,
   "metadata": {},
   "outputs": [
    {
     "data": {
      "text/html": [
       "<div>\n",
       "<style scoped>\n",
       "    .dataframe tbody tr th:only-of-type {\n",
       "        vertical-align: middle;\n",
       "    }\n",
       "\n",
       "    .dataframe tbody tr th {\n",
       "        vertical-align: top;\n",
       "    }\n",
       "\n",
       "    .dataframe thead th {\n",
       "        text-align: right;\n",
       "    }\n",
       "</style>\n",
       "<table border=\"1\" class=\"dataframe\">\n",
       "  <thead>\n",
       "    <tr style=\"text-align: right;\">\n",
       "      <th></th>\n",
       "      <th>msd_tid</th>\n",
       "      <th>mxm_tid</th>\n",
       "      <th>is_test</th>\n",
       "    </tr>\n",
       "  </thead>\n",
       "  <tbody>\n",
       "    <tr>\n",
       "      <th>0</th>\n",
       "      <td>TRAAAAV128F421A322</td>\n",
       "      <td>4623710</td>\n",
       "      <td>0</td>\n",
       "    </tr>\n",
       "    <tr>\n",
       "      <th>68</th>\n",
       "      <td>TRAAABD128F429CF47</td>\n",
       "      <td>6477168</td>\n",
       "      <td>0</td>\n",
       "    </tr>\n",
       "    <tr>\n",
       "      <th>142</th>\n",
       "      <td>TRAAAED128E0783FAB</td>\n",
       "      <td>2516445</td>\n",
       "      <td>0</td>\n",
       "    </tr>\n",
       "    <tr>\n",
       "      <th>262</th>\n",
       "      <td>TRAAAEF128F4273421</td>\n",
       "      <td>3759847</td>\n",
       "      <td>0</td>\n",
       "    </tr>\n",
       "    <tr>\n",
       "      <th>321</th>\n",
       "      <td>TRAAAEW128F42930C0</td>\n",
       "      <td>3783760</td>\n",
       "      <td>0</td>\n",
       "    </tr>\n",
       "    <tr>\n",
       "      <th>...</th>\n",
       "      <td>...</td>\n",
       "      <td>...</td>\n",
       "      <td>...</td>\n",
       "    </tr>\n",
       "    <tr>\n",
       "      <th>19044975</th>\n",
       "      <td>TRZZXFY128F9342D0E</td>\n",
       "      <td>1265451</td>\n",
       "      <td>1</td>\n",
       "    </tr>\n",
       "    <tr>\n",
       "      <th>19045043</th>\n",
       "      <td>TRZZXOQ128F932A083</td>\n",
       "      <td>4292070</td>\n",
       "      <td>1</td>\n",
       "    </tr>\n",
       "    <tr>\n",
       "      <th>19045092</th>\n",
       "      <td>TRZZXVN128F93285B4</td>\n",
       "      <td>7528751</td>\n",
       "      <td>1</td>\n",
       "    </tr>\n",
       "    <tr>\n",
       "      <th>19045190</th>\n",
       "      <td>TRZZYLF128F9316CAB</td>\n",
       "      <td>3748433</td>\n",
       "      <td>1</td>\n",
       "    </tr>\n",
       "    <tr>\n",
       "      <th>19045245</th>\n",
       "      <td>TRZZZZD128F4236844</td>\n",
       "      <td>2466899</td>\n",
       "      <td>1</td>\n",
       "    </tr>\n",
       "  </tbody>\n",
       "</table>\n",
       "<p>237662 rows × 3 columns</p>\n",
       "</div>"
      ],
      "text/plain": [
       "                     msd_tid  mxm_tid  is_test\n",
       "0         TRAAAAV128F421A322  4623710        0\n",
       "68        TRAAABD128F429CF47  6477168        0\n",
       "142       TRAAAED128E0783FAB  2516445        0\n",
       "262       TRAAAEF128F4273421  3759847        0\n",
       "321       TRAAAEW128F42930C0  3783760        0\n",
       "...                      ...      ...      ...\n",
       "19044975  TRZZXFY128F9342D0E  1265451        1\n",
       "19045043  TRZZXOQ128F932A083  4292070        1\n",
       "19045092  TRZZXVN128F93285B4  7528751        1\n",
       "19045190  TRZZYLF128F9316CAB  3748433        1\n",
       "19045245  TRZZZZD128F4236844  2466899        1\n",
       "\n",
       "[237662 rows x 3 columns]"
      ]
     },
     "execution_count": 18,
     "metadata": {},
     "output_type": "execute_result"
    }
   ],
   "source": [
    "relevant = lyrics[[\"track_id\", \"mxm_tid\", \"is_test\"]].drop_duplicates().rename(columns={\"track_id\":\"msd_tid\"})\n",
    "relevant"
   ]
  },
  {
   "cell_type": "markdown",
   "metadata": {},
   "source": [
    "This dataframe contains the expected number of values."
   ]
  },
  {
   "cell_type": "markdown",
   "metadata": {},
   "source": [
    "## Check for duplicates"
   ]
  },
  {
   "cell_type": "markdown",
   "metadata": {},
   "source": [
    "Let's check the obtained tracks against the official [list of duplicates](http://millionsongdataset.com/sites/default/files/AdditionalFiles/msd_duplicates.txt)."
   ]
  },
  {
   "cell_type": "code",
   "execution_count": 7,
   "metadata": {},
   "outputs": [],
   "source": [
    "def get_remote_zip(url):\n",
    "  resp = requests.get(url)\n",
    "  return ZipFile(BytesIO(resp.content))"
   ]
  },
  {
   "cell_type": "code",
   "execution_count": 8,
   "metadata": {},
   "outputs": [],
   "source": [
    "def get_remote_textfile(url):\n",
    "  resp = requests.get(url)\n",
    "  return resp.text"
   ]
  },
  {
   "cell_type": "code",
   "execution_count": 9,
   "metadata": {},
   "outputs": [],
   "source": [
    "data_dir = \"data\"\n",
    "if not os.path.exists(data_dir):\n",
    "  os.mkdir(data_dir)"
   ]
  },
  {
   "cell_type": "code",
   "execution_count": 10,
   "metadata": {},
   "outputs": [],
   "source": [
    "duplicate_file_path = os.path.join(data_dir, \"msd_duplicates.txt\")\n",
    "if not os.path.exists(duplicate_file_path):\n",
    "  duplicate_file_content = get_remote_textfile(\"http://millionsongdataset.com/sites/default/files/AdditionalFiles/msd_duplicates.txt\")\n",
    "  with open(duplicate_file_path, \"w\") as f:\n",
    "    f.write(duplicate_file_content)"
   ]
  },
  {
   "cell_type": "markdown",
   "metadata": {},
   "source": [
    "We have successfully loaded the list of duplicates!\n",
    "\n",
    "It has the following structure:\n",
    "```\n",
    "% ARTIST - TITLE\n",
    "DUPLICATE_ID1\n",
    "...\n",
    "DUPLICATE_ID_N\n",
    "% NEXT_ARTIST - NEXT_TITLE\n",
    "...\n",
    "```"
   ]
  },
  {
   "cell_type": "markdown",
   "metadata": {},
   "source": [
    "So, we have some processing to do. We assume that if we have a single match in terms of musiXmatch ID, we can remove all the remaining matches from our dataset."
   ]
  },
  {
   "cell_type": "code",
   "execution_count": 11,
   "metadata": {},
   "outputs": [],
   "source": [
    "import re\n",
    "\n",
    "with open(duplicate_file_path) as f:\n",
    "  # remove comments (lines starting with \"#\")\n",
    "  duplicates_data = \"\".join([line for line in f.readlines() if not line.startswith(\"#\")])\n",
    "  # we could extract the artist and track names for the duplicates from the file, like this:\n",
    "  # artist_and_track_name_strs = re.findall(r\"\\%[0-9]*\\s(.*)\\n\", duplicates_data)\n",
    "  # splits = [str.split(\" - \") for str in artist_and_track_name_strs]\n",
    "\n",
    "  # But actually there's a few instances where \" - \" is either part of the song title or the artist's name\n",
    "  # there's no clear rule for splitting that without introducing error\n",
    "  # so, rather than picking the names from here, we will just use the lists of duplicates\n",
    "\n",
    "  duplicated_tracks = [ids_str.split(\"\\n\")[:-1] for ids_str in re.split(r\"\\%[0-9]*\\s.*\\n\", duplicates_data)[1:]]"
   ]
  },
  {
   "cell_type": "markdown",
   "metadata": {},
   "source": [
    "How many songs are actually duplicated?"
   ]
  },
  {
   "cell_type": "code",
   "execution_count": 12,
   "metadata": {},
   "outputs": [
    {
     "data": {
      "text/plain": [
       "53471"
      ]
     },
     "execution_count": 12,
     "metadata": {},
     "output_type": "execute_result"
    }
   ],
   "source": [
    "len(duplicated_tracks)"
   ]
  },
  {
   "cell_type": "markdown",
   "metadata": {},
   "source": [
    "This perfectly coincides with the content of the file, it also lists 53471 combinations of artist and track title!"
   ]
  },
  {
   "cell_type": "markdown",
   "metadata": {},
   "source": [
    "The authors of the duplicate list also state that in total 131661 \"song objects\" are duplicates of another one. Let's make sure we extracted the same information:"
   ]
  },
  {
   "cell_type": "code",
   "execution_count": 13,
   "metadata": {},
   "outputs": [
    {
     "data": {
      "text/plain": [
       "131661"
      ]
     },
     "execution_count": 13,
     "metadata": {},
     "output_type": "execute_result"
    }
   ],
   "source": [
    "sum([len(track_ids) for track_ids in duplicated_tracks])"
   ]
  },
  {
   "cell_type": "markdown",
   "metadata": {},
   "source": [
    "Looks good! \n",
    "\n",
    "Now we can check the extracted lyric data against the duplicates list."
   ]
  },
  {
   "cell_type": "markdown",
   "metadata": {},
   "source": [
    "For this purpose, we first create a DataFrame with two columns: a \"duplicate ID\" that uniquely identifies one of the 54771 duplicated tracks and the respective track ID from the MSD dataset."
   ]
  },
  {
   "cell_type": "code",
   "execution_count": 14,
   "metadata": {},
   "outputs": [
    {
     "data": {
      "text/html": [
       "<div>\n",
       "<style scoped>\n",
       "    .dataframe tbody tr th:only-of-type {\n",
       "        vertical-align: middle;\n",
       "    }\n",
       "\n",
       "    .dataframe tbody tr th {\n",
       "        vertical-align: top;\n",
       "    }\n",
       "\n",
       "    .dataframe thead th {\n",
       "        text-align: right;\n",
       "    }\n",
       "</style>\n",
       "<table border=\"1\" class=\"dataframe\">\n",
       "  <thead>\n",
       "    <tr style=\"text-align: right;\">\n",
       "      <th></th>\n",
       "      <th>duplicate_id</th>\n",
       "      <th>msd_tid</th>\n",
       "    </tr>\n",
       "  </thead>\n",
       "  <tbody>\n",
       "    <tr>\n",
       "      <th>0</th>\n",
       "      <td>0</td>\n",
       "      <td>TRFCVSW12903D0A298</td>\n",
       "    </tr>\n",
       "    <tr>\n",
       "      <th>1</th>\n",
       "      <td>0</td>\n",
       "      <td>TRCWFEM128F9320F94</td>\n",
       "    </tr>\n",
       "    <tr>\n",
       "      <th>2</th>\n",
       "      <td>0</td>\n",
       "      <td>TRKYJRK12903CE6493</td>\n",
       "    </tr>\n",
       "    <tr>\n",
       "      <th>3</th>\n",
       "      <td>0</td>\n",
       "      <td>TRWTOBV128F9300F8A</td>\n",
       "    </tr>\n",
       "    <tr>\n",
       "      <th>4</th>\n",
       "      <td>1</td>\n",
       "      <td>TRWFIGX128F42920CA</td>\n",
       "    </tr>\n",
       "    <tr>\n",
       "      <th>...</th>\n",
       "      <td>...</td>\n",
       "      <td>...</td>\n",
       "    </tr>\n",
       "    <tr>\n",
       "      <th>131656</th>\n",
       "      <td>53468</td>\n",
       "      <td>TRVTTQH12903C9B37B</td>\n",
       "    </tr>\n",
       "    <tr>\n",
       "      <th>131657</th>\n",
       "      <td>53469</td>\n",
       "      <td>TRDNEDV128F92FFE25</td>\n",
       "    </tr>\n",
       "    <tr>\n",
       "      <th>131658</th>\n",
       "      <td>53469</td>\n",
       "      <td>TRUYBTI128F422D6CC</td>\n",
       "    </tr>\n",
       "    <tr>\n",
       "      <th>131659</th>\n",
       "      <td>53470</td>\n",
       "      <td>TRXVMUN128E0784025</td>\n",
       "    </tr>\n",
       "    <tr>\n",
       "      <th>131660</th>\n",
       "      <td>53470</td>\n",
       "      <td>TRBAAOT128F4261A18</td>\n",
       "    </tr>\n",
       "  </tbody>\n",
       "</table>\n",
       "<p>131661 rows × 2 columns</p>\n",
       "</div>"
      ],
      "text/plain": [
       "        duplicate_id             msd_tid\n",
       "0                  0  TRFCVSW12903D0A298\n",
       "1                  0  TRCWFEM128F9320F94\n",
       "2                  0  TRKYJRK12903CE6493\n",
       "3                  0  TRWTOBV128F9300F8A\n",
       "4                  1  TRWFIGX128F42920CA\n",
       "...              ...                 ...\n",
       "131656         53468  TRVTTQH12903C9B37B\n",
       "131657         53469  TRDNEDV128F92FFE25\n",
       "131658         53469  TRUYBTI128F422D6CC\n",
       "131659         53470  TRXVMUN128E0784025\n",
       "131660         53470  TRBAAOT128F4261A18\n",
       "\n",
       "[131661 rows x 2 columns]"
      ]
     },
     "execution_count": 14,
     "metadata": {},
     "output_type": "execute_result"
    }
   ],
   "source": [
    "dups_and_tracks = [[(i, track_id) for track_id in track_ids] for (i, track_ids) in enumerate(duplicated_tracks)]\n",
    "dups_and_tracks_flat = [item for dup_and_tracks in dups_and_tracks for item in dup_and_tracks]\n",
    "dup_mapping = pd.DataFrame(dups_and_tracks_flat, columns=[\"duplicate_id\", \"msd_tid\"])\n",
    "dup_mapping"
   ]
  },
  {
   "cell_type": "code",
   "execution_count": 24,
   "metadata": {},
   "outputs": [
    {
     "data": {
      "text/plain": [
       "Series([], dtype: int64)"
      ]
     },
     "execution_count": 24,
     "metadata": {},
     "output_type": "execute_result"
    }
   ],
   "source": [
    "duplicate_counts = pd.merge(relevant, dup_mapping, on=\"msd_tid\").groupby(\"duplicate_id\").size()\n",
    "duplicate_counts[duplicate_counts > 1]"
   ]
  },
  {
   "cell_type": "markdown",
   "metadata": {},
   "source": [
    "The fact that the code above returned an empty Series confirms that there indeed are no duplicates left. Nice!"
   ]
  },
  {
   "cell_type": "markdown",
   "metadata": {},
   "source": [
    "## Write data to CSV"
   ]
  },
  {
   "cell_type": "code",
   "execution_count": 25,
   "metadata": {},
   "outputs": [],
   "source": [
    "relevant.to_csv(\"data/msd_to_mxm.csv\", index=False)"
   ]
  }
 ],
 "metadata": {
  "kernelspec": {
   "display_name": "Python 3.9.12 ('base')",
   "language": "python",
   "name": "python3"
  },
  "language_info": {
   "codemirror_mode": {
    "name": "ipython",
    "version": 3
   },
   "file_extension": ".py",
   "mimetype": "text/x-python",
   "name": "python",
   "nbconvert_exporter": "python",
   "pygments_lexer": "ipython3",
   "version": "3.9.12"
  },
  "orig_nbformat": 4,
  "vscode": {
   "interpreter": {
    "hash": "28fe809b71d71d817b30849dbe0cd24ade9f2bc94427d4e465a16349ca1bd851"
   }
  }
 },
 "nbformat": 4,
 "nbformat_minor": 2
}
